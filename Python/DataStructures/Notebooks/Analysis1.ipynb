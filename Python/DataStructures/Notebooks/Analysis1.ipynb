{
 "cells": [
  {
   "cell_type": "code",
   "execution_count": 10,
   "metadata": {},
   "outputs": [],
   "source": [
    "from FooFinder.DataStructures import StaticFrameFromSymbol\n",
    "import static_frame as sf\n",
    "import yfinance as yf\n",
    "import numpy as np\n",
    "import pandas as pd"
   ]
  },
  {
   "cell_type": "code",
   "execution_count": 17,
   "metadata": {},
   "outputs": [
    {
     "name": "stdout",
     "output_type": "stream",
     "text": [
      "[*********************100%***********************]  1 of 1 completed\n"
     ]
    }
   ],
   "source": [
    "frame = StaticFrameFromSymbol.StaticFrame.from_symbol('GLD', period='5d', interval='5m')"
   ]
  },
  {
   "cell_type": "code",
   "execution_count": 18,
   "metadata": {},
   "outputs": [
    {
     "name": "stdout",
     "output_type": "stream",
     "text": [
      "<StaticFrame: GLD>\n",
      "<Index>                       Open      High      Low       Close     Volume  <object>\n",
      "<IndexNanosecond: Datetime>\n",
      "2020-09-21T08:30:00.000000000 182.71    182.71    182.68    182.68    0\n",
      "2020-09-21T08:35:00.000000000 182.59    182.59    182.48    182.48    0\n",
      "2020-09-21T08:40:00.000000000 182.49    182.51    182.47    182.51    0\n",
      "2020-09-21T08:45:00.000000000 182.5     182.5     182.23    182.23    0\n",
      "2020-09-21T08:50:00.000000000 182.1     182.1     182.02    182.06    0\n",
      "2020-09-21T09:00:00.000000000 182.0     182.0     181.99    181.99    0\n",
      "2020-09-21T09:05:00.000000000 181.9     181.94    181.67    181.93    0\n",
      "2020-09-21T09:10:00.000000000 182.05    182.05    182.05    182.05    0\n",
      "2020-09-21T09:15:00.000000000 181.91    181.91    181.91    181.91    0\n",
      "2020-09-21T09:35:00.000000000 181.81    181.84    181.81    181.84    0\n",
      "2020-09-21T09:40:00.000000000 181.7     181.74    181.7     181.74    0\n",
      "2020-09-21T09:45:00.000000000 181.65    181.65    181.38    181.41    0\n",
      "2020-09-21T09:50:00.000000000 181.32    181.37    181.27    181.27    0\n",
      "2020-09-21T09:55:00.000000000 181.25    181.25    181.25    181.25    0\n",
      "2020-09-21T10:00:00.000000000 181.29    181.29    181.0     181.17    0\n",
      "2020-09-21T10:10:00.000000000 181.31    181.34    181.31    181.34    0\n",
      "2020-09-21T10:15:00.000000000 181.35    181.35    181.28    181.28    0\n",
      "...                           ...       ...       ...       ...       ...\n",
      "2020-09-25T21:10:00.000000000 174.62    174.8     174.5     174.5     0\n",
      "2020-09-25T21:15:00.000000000 174.51    174.59    164.7657  174.55    0\n",
      "2020-09-25T21:20:00.000000000 174.48    174.48    174.47    174.47    0\n",
      "2020-09-25T21:25:00.000000000 174.5     174.5     174.46    174.46    0\n",
      "2020-09-25T21:30:00.000000000 174.5999  174.5999  174.5999  174.5999  0\n",
      "2020-09-25T21:40:00.000000000 174.5     174.5     174.5     174.5     0\n",
      "2020-09-25T21:45:00.000000000 174.5     174.5     174.5     174.5     0\n",
      "2020-09-25T22:15:00.000000000 174.45    174.45    174.45    174.45    0\n",
      "2020-09-25T22:20:00.000000000 174.45    174.94    174.39    174.39    0\n",
      "2020-09-25T22:25:00.000000000 174.45    174.46    174.45    174.46    0\n",
      "2020-09-25T22:45:00.000000000 174.46    174.49    174.46    174.49    0\n",
      "2020-09-25T22:50:00.000000000 174.46    174.46    174.46    174.46    0\n",
      "2020-09-25T23:00:00.000000000 174.48    174.5     174.45    174.45    0\n",
      "2020-09-25T23:15:00.000000000 174.5     174.5     174.5     174.5     0\n",
      "2020-09-25T23:20:00.000000000 174.5     174.5     174.5     174.5     0\n",
      "2020-09-25T23:25:00.000000000 174.5     174.5     174.5     174.5     0\n",
      "2020-09-25T23:45:00.000000000 174.5     174.5     174.5     174.5     0\n",
      "<datetime64[ns]>              <float64> <float64> <float64> <float64> <int64>\n"
     ]
    }
   ],
   "source": [
    "print(frame)"
   ]
  },
  {
   "cell_type": "code",
   "execution_count": 20,
   "metadata": {},
   "outputs": [
    {
     "ename": "AttributeError",
     "evalue": "'Series' object has no attribute 'plot'",
     "output_type": "error",
     "traceback": [
      "\u001b[1;31m---------------------------------------------------------------------------\u001b[0m",
      "\u001b[1;31mAttributeError\u001b[0m                            Traceback (most recent call last)",
      "\u001b[1;32m<ipython-input-20-c43ea9c9ff8d>\u001b[0m in \u001b[0;36m<module>\u001b[1;34m\u001b[0m\n\u001b[0;32m      1\u001b[0m \u001b[0mf2\u001b[0m \u001b[1;33m=\u001b[0m \u001b[0mframe\u001b[0m\u001b[1;33m.\u001b[0m\u001b[0mloc\u001b[0m\u001b[1;33m[\u001b[0m\u001b[1;33m:\u001b[0m\u001b[1;33m,\u001b[0m\u001b[1;34m'Open'\u001b[0m\u001b[1;33m]\u001b[0m\u001b[1;33m\u001b[0m\u001b[1;33m\u001b[0m\u001b[0m\n\u001b[1;32m----> 2\u001b[1;33m \u001b[0mf2\u001b[0m\u001b[1;33m.\u001b[0m\u001b[0mplot\u001b[0m\u001b[1;33m(\u001b[0m\u001b[1;33m)\u001b[0m\u001b[1;33m\u001b[0m\u001b[1;33m\u001b[0m\u001b[0m\n\u001b[0m",
      "\u001b[1;31mAttributeError\u001b[0m: 'Series' object has no attribute 'plot'"
     ]
    }
   ],
   "source": [
    "Series1 = frame.loc[:,'Open']\n",
    "f2.to_pandas().plot()"
   ]
  },
  {
   "cell_type": "code",
   "execution_count": null,
   "metadata": {},
   "outputs": [],
   "source": []
  }
 ],
 "metadata": {
  "kernelspec": {
   "display_name": "Python 3",
   "language": "python",
   "name": "python3"
  },
  "language_info": {
   "codemirror_mode": {
    "name": "ipython",
    "version": 3
   },
   "file_extension": ".py",
   "mimetype": "text/x-python",
   "name": "python",
   "nbconvert_exporter": "python",
   "pygments_lexer": "ipython3",
   "version": "3.8.3"
  }
 },
 "nbformat": 4,
 "nbformat_minor": 4
}
