{
 "cells": [
  {
   "cell_type": "code",
   "execution_count": 1,
   "metadata": {},
   "outputs": [],
   "source": [
    "from FooFinder.DataStructures import StaticFrameFromSymbol"
   ]
  },
  {
   "cell_type": "code",
   "execution_count": 2,
   "metadata": {},
   "outputs": [
    {
     "name": "stdout",
     "output_type": "stream",
     "text": [
      "[*********************100%***********************]  1 of 1 completed\n"
     ]
    }
   ],
   "source": [
    "frame = StaticFrameFromSymbol.StaticFrame.from_symbol('GLD', period='5d', interval='1d')"
   ]
  },
  {
   "cell_type": "code",
   "execution_count": 3,
   "metadata": {},
   "outputs": [
    {
     "name": "stdout",
     "output_type": "stream",
     "text": [
      "<StaticFrame: GLD>\n",
      "<Index>                       Open               High               Low                Close              Volume   <object>\n",
      "<IndexNanosecond: Date>\n",
      "2020-09-21T00:00:00.000000000 179.83999633789062 180.2899932861328  176.75             179.52000427246094 17436100\n",
      "2020-09-22T00:00:00.000000000 179.6300048828125  180.02000427246094 178.11000061035156 178.64999389648438 7977900\n",
      "2020-09-23T00:00:00.000000000 176.97999572753906 177.25999450683594 174.10000610351562 174.7899932861328  18134000\n",
      "2020-09-24T00:00:00.000000000 174.36000061035156 176.24000549316406 173.77000427246094 175.44000244140625 11759200\n",
      "2020-09-25T00:00:00.000000000 174.41000366210938 175.3000030517578  173.88999938964844 174.94000244140625 6774000\n",
      "<datetime64[ns]>              <float64>          <float64>          <float64>          <float64>          <int64>\n"
     ]
    }
   ],
   "source": [
    "print(frame)"
   ]
  },
  {
   "cell_type": "code",
   "execution_count": null,
   "metadata": {},
   "outputs": [],
   "source": []
  }
 ],
 "metadata": {
  "kernelspec": {
   "display_name": "Python 3",
   "language": "python",
   "name": "python3"
  },
  "language_info": {
   "codemirror_mode": {
    "name": "ipython",
    "version": 3
   },
   "file_extension": ".py",
   "mimetype": "text/x-python",
   "name": "python",
   "nbconvert_exporter": "python",
   "pygments_lexer": "ipython3",
   "version": "3.8.3"
  }
 },
 "nbformat": 4,
 "nbformat_minor": 4
}
