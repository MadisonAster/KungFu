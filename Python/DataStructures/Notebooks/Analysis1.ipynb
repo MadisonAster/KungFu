{
 "cells": [
  {
   "cell_type": "code",
   "execution_count": 1,
   "metadata": {},
   "outputs": [],
   "source": [
    "from FooFinder import KungFu"
   ]
  },
  {
   "cell_type": "code",
   "execution_count": 2,
   "metadata": {},
   "outputs": [
    {
     "name": "stdout",
     "output_type": "stream",
     "text": [
      "import section!\n",
      "SingletonApp!\n",
      "Unrecognized package manager: conda\n",
      "Skipping 9 conda.pyside2 test(s).\n",
      "Unrecognized package manager: conda\n",
      "Skipping 9 conda.qt.py test(s).\n",
      "Qt not available! Disabling gui tests!\n",
      "gui installed False\n",
      "Skipping 9 gui test(s).\n",
      "BasicWindow!\n",
      "Unrecognized package manager: conda\n",
      "Skipping 2 conda.pyside2 test(s).\n",
      "Unrecognized package manager: conda\n",
      "Skipping 2 conda.qt.py test(s).\n",
      "Skipping 2 gui test(s).\n",
      "BasicWidget!\n",
      "Unrecognized package manager: conda\n",
      "Skipping 1 conda.pyside2 test(s).\n",
      "Unrecognized package manager: conda\n",
      "Skipping 1 conda.qt.py test(s).\n",
      "Skipping 1 gui test(s).\n",
      "StaticFrameFromSymbol!\n",
      "Skipping 37 lxml test(s).\n"
     ]
    }
   ],
   "source": [
    "from FooFinder import PythonBaseClasses"
   ]
  },
  {
   "cell_type": "code",
   "execution_count": 3,
   "metadata": {},
   "outputs": [
    {
     "name": "stdout",
     "output_type": "stream",
     "text": [
      "[*********************100%***********************]  1 of 1 completed\n"
     ]
    }
   ],
   "source": [
    "frame = PythonBaseClasses.StaticFrame.from_symbol('GLD', period='5d', interval='1d')"
   ]
  },
  {
   "cell_type": "code",
   "execution_count": 4,
   "metadata": {},
   "outputs": [
    {
     "name": "stdout",
     "output_type": "stream",
     "text": [
      "<StaticFrame: GLD>\n",
      "<Index>                       Open               High               Low                Close              Volume   <object>\n",
      "<IndexNanosecond: Date>\n",
      "2020-09-21T00:00:00.000000000 179.83999633789062 180.2899932861328  176.75             179.52000427246094 17436100\n",
      "2020-09-22T00:00:00.000000000 179.6300048828125  180.02000427246094 178.11000061035156 178.64999389648438 7977900\n",
      "2020-09-23T00:00:00.000000000 176.97999572753906 177.25999450683594 174.10000610351562 174.7899932861328  18134000\n",
      "2020-09-24T00:00:00.000000000 174.36000061035156 176.24000549316406 173.77000427246094 175.44000244140625 11759200\n",
      "2020-09-25T00:00:00.000000000 174.41000366210938 175.3000030517578  173.88999938964844 174.94000244140625 6774000\n",
      "<datetime64[ns]>              <float64>          <float64>          <float64>          <float64>          <int64>\n"
     ]
    }
   ],
   "source": [
    "print(frame)"
   ]
  },
  {
   "cell_type": "code",
   "execution_count": null,
   "metadata": {},
   "outputs": [],
   "source": []
  }
 ],
 "metadata": {
  "kernelspec": {
   "display_name": "Python 3",
   "language": "python",
   "name": "python3"
  },
  "language_info": {
   "codemirror_mode": {
    "name": "ipython",
    "version": 3
   },
   "file_extension": ".py",
   "mimetype": "text/x-python",
   "name": "python",
   "nbconvert_exporter": "python",
   "pygments_lexer": "ipython3",
   "version": "3.8.3"
  }
 },
 "nbformat": 4,
 "nbformat_minor": 4
}
