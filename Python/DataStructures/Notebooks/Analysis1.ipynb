{
 "cells": [
  {
   "cell_type": "code",
   "execution_count": 2,
   "metadata": {},
   "outputs": [],
   "source": [
    "from FooFinder.DataStructures import StaticFrameDownloads\n",
    "import static_frame as sf\n",
    "import yfinance as yf\n",
    "import numpy as np\n",
    "import pandas as pd"
   ]
  },
  {
   "cell_type": "code",
   "execution_count": 20,
   "metadata": {},
   "outputs": [
    {
     "name": "stdout",
     "output_type": "stream",
     "text": [
      "[*********************100%***********************]  1 of 1 completed\n"
     ]
    }
   ],
   "source": [
    "frame = StaticFrameDownloads.StaticFrame.from_symbol('GLD', period='5d', interval='5m')"
   ]
  },
  {
   "cell_type": "code",
   "execution_count": 21,
   "metadata": {},
   "outputs": [
    {
     "name": "stdout",
     "output_type": "stream",
     "text": [
      "<class 'StaticFrameDownloads.StaticFrame'>\n"
     ]
    }
   ],
   "source": [
    "print(type(frame))"
   ]
  },
  {
   "cell_type": "code",
   "execution_count": 22,
   "metadata": {},
   "outputs": [
    {
     "data": {
      "text/plain": [
       "<AxesSubplot:xlabel='Datetime'>"
      ]
     },
     "execution_count": 22,
     "metadata": {},
     "output_type": "execute_result"
    },
    {
     "data": {
      "image/png": "[encoded data removed]",
      "text/plain": [
       "<Figure size 432x288 with 1 Axes>"
      ]
     },
     "metadata": {
      "needs_background": "light"
     },
     "output_type": "display_data"
    }
   ],
   "source": [
    "Series1 = frame.loc[:,'Open']\n",
    "Series1.to_pandas().plot()"
   ]
  },
  {
   "cell_type": "code",
   "execution_count": 3,
   "metadata": {},
   "outputs": [],
   "source": [
    "frame2 = StaticFrameDownloads.StaticFrame.from_fred('SP500')"
   ]
  },
  {
   "cell_type": "code",
   "execution_count": 4,
   "metadata": {},
   "outputs": [
    {
     "name": "stdout",
     "output_type": "stream",
     "text": [
      "<class 'StaticFrameDownloads.StaticFrame'>\n",
      "<StaticFrame: SP500>\n",
      "<Index>              DATE       VALUE    <object>\n",
      "<Index>\n",
      "0                    2010-09-27 1142.16\n",
      "1                    2010-09-28 1147.70\n",
      "2                    2010-09-29 1144.73\n",
      "3                    2010-09-30 1141.20\n",
      "4                    2010-10-01 1146.24\n",
      "5                    2010-10-04 1137.03\n",
      "6                    2010-10-05 1160.75\n",
      "7                    2010-10-06 1159.97\n",
      "8                    2010-10-07 1158.06\n",
      "9                    2010-10-08 1165.15\n",
      "10                   2010-10-11 1165.32\n",
      "11                   2010-10-12 1169.77\n",
      "12                   2010-10-13 1178.10\n",
      "13                   2010-10-14 1173.81\n",
      "14                   2010-10-15 1176.19\n",
      "15                   2010-10-18 1184.71\n",
      "16                   2010-10-19 1165.90\n",
      "...                  ...        ...\n",
      "2593                 2020-09-03 3455.06\n",
      "2594                 2020-09-04 3426.96\n",
      "2595                 2020-09-07 .\n",
      "2596                 2020-09-08 3331.84\n",
      "2597                 2020-09-09 3398.96\n",
      "2598                 2020-09-10 3339.19\n",
      "2599                 2020-09-11 3340.97\n",
      "2600                 2020-09-14 3383.54\n",
      "2601                 2020-09-15 3401.20\n",
      "2602                 2020-09-16 3385.49\n",
      "2603                 2020-09-17 3357.01\n",
      "2604                 2020-09-18 3319.47\n",
      "2605                 2020-09-21 3281.06\n",
      "2606                 2020-09-22 3315.57\n",
      "2607                 2020-09-23 3236.92\n",
      "2608                 2020-09-24 3246.59\n",
      "2609                 2020-09-25 3298.46\n",
      "<int64>              <object>   <object>\n"
     ]
    }
   ],
   "source": [
    "print(type(frame2))\n",
    "#frame2.set_index('DATE')\n",
    "print(frame2)"
   ]
  },
  {
   "cell_type": "code",
   "execution_count": 11,
   "metadata": {},
   "outputs": [
    {
     "name": "stdout",
     "output_type": "stream",
     "text": [
      "<Series: VALUE>\n",
      "<Index>\n",
      "0               1142.16\n",
      "1               1147.70\n",
      "2               1144.73\n",
      "3               1141.20\n",
      "4               1146.24\n",
      "5               1137.03\n",
      "6               1160.75\n",
      "7               1159.97\n",
      "8               1158.06\n",
      "9               1165.15\n",
      "10              1165.32\n",
      "11              1169.77\n",
      "12              1178.10\n",
      "13              1173.81\n",
      "14              1176.19\n",
      "15              1184.71\n",
      "16              1165.90\n",
      "...             ...\n",
      "2593            3455.06\n",
      "2594            3426.96\n",
      "2595            .\n",
      "2596            3331.84\n",
      "2597            3398.96\n",
      "2598            3339.19\n",
      "2599            3340.97\n",
      "2600            3383.54\n",
      "2601            3401.20\n",
      "2602            3385.49\n",
      "2603            3357.01\n",
      "2604            3319.47\n",
      "2605            3281.06\n",
      "2606            3315.57\n",
      "2607            3236.92\n",
      "2608            3246.59\n",
      "2609            3298.46\n",
      "<int64>         <object>\n"
     ]
    },
    {
     "ename": "AttributeError",
     "evalue": "'Series' object has no attribute 'to_numeric'",
     "output_type": "error",
     "traceback": [
      "\u001b[1;31m---------------------------------------------------------------------------\u001b[0m",
      "\u001b[1;31mAttributeError\u001b[0m                            Traceback (most recent call last)",
      "\u001b[1;32m<ipython-input-11-d2ffe58b00b3>\u001b[0m in \u001b[0;36m<module>\u001b[1;34m\u001b[0m\n\u001b[0;32m      1\u001b[0m \u001b[0mSeries2\u001b[0m \u001b[1;33m=\u001b[0m \u001b[0mframe2\u001b[0m\u001b[1;33m.\u001b[0m\u001b[0mloc\u001b[0m\u001b[1;33m[\u001b[0m\u001b[1;33m:\u001b[0m\u001b[1;33m,\u001b[0m\u001b[1;34m'VALUE'\u001b[0m\u001b[1;33m]\u001b[0m\u001b[1;33m\u001b[0m\u001b[1;33m\u001b[0m\u001b[0m\n\u001b[0;32m      2\u001b[0m \u001b[0mprint\u001b[0m\u001b[1;33m(\u001b[0m\u001b[0mSeries2\u001b[0m\u001b[1;33m)\u001b[0m\u001b[1;33m\u001b[0m\u001b[1;33m\u001b[0m\u001b[0m\n\u001b[1;32m----> 3\u001b[1;33m \u001b[0mSeries2\u001b[0m\u001b[1;33m.\u001b[0m\u001b[0mto_pandas\u001b[0m\u001b[1;33m(\u001b[0m\u001b[1;33m)\u001b[0m\u001b[1;33m.\u001b[0m\u001b[0mto_numeric\u001b[0m\u001b[1;33m(\u001b[0m\u001b[1;33m)\u001b[0m\u001b[1;33m.\u001b[0m\u001b[0mplot\u001b[0m\u001b[1;33m(\u001b[0m\u001b[1;33m)\u001b[0m\u001b[1;33m\u001b[0m\u001b[1;33m\u001b[0m\u001b[0m\n\u001b[0m",
      "\u001b[1;32mC:\\Python38\\anaconda3\\lib\\site-packages\\pandas\\core\\generic.py\u001b[0m in \u001b[0;36m__getattr__\u001b[1;34m(self, name)\u001b[0m\n\u001b[0;32m   5134\u001b[0m             \u001b[1;32mif\u001b[0m \u001b[0mself\u001b[0m\u001b[1;33m.\u001b[0m\u001b[0m_info_axis\u001b[0m\u001b[1;33m.\u001b[0m\u001b[0m_can_hold_identifiers_and_holds_name\u001b[0m\u001b[1;33m(\u001b[0m\u001b[0mname\u001b[0m\u001b[1;33m)\u001b[0m\u001b[1;33m:\u001b[0m\u001b[1;33m\u001b[0m\u001b[1;33m\u001b[0m\u001b[0m\n\u001b[0;32m   5135\u001b[0m                 \u001b[1;32mreturn\u001b[0m \u001b[0mself\u001b[0m\u001b[1;33m[\u001b[0m\u001b[0mname\u001b[0m\u001b[1;33m]\u001b[0m\u001b[1;33m\u001b[0m\u001b[1;33m\u001b[0m\u001b[0m\n\u001b[1;32m-> 5136\u001b[1;33m             \u001b[1;32mreturn\u001b[0m \u001b[0mobject\u001b[0m\u001b[1;33m.\u001b[0m\u001b[0m__getattribute__\u001b[0m\u001b[1;33m(\u001b[0m\u001b[0mself\u001b[0m\u001b[1;33m,\u001b[0m \u001b[0mname\u001b[0m\u001b[1;33m)\u001b[0m\u001b[1;33m\u001b[0m\u001b[1;33m\u001b[0m\u001b[0m\n\u001b[0m\u001b[0;32m   5137\u001b[0m \u001b[1;33m\u001b[0m\u001b[0m\n\u001b[0;32m   5138\u001b[0m     \u001b[1;32mdef\u001b[0m \u001b[0m__setattr__\u001b[0m\u001b[1;33m(\u001b[0m\u001b[0mself\u001b[0m\u001b[1;33m,\u001b[0m \u001b[0mname\u001b[0m\u001b[1;33m:\u001b[0m \u001b[0mstr\u001b[0m\u001b[1;33m,\u001b[0m \u001b[0mvalue\u001b[0m\u001b[1;33m)\u001b[0m \u001b[1;33m->\u001b[0m \u001b[1;32mNone\u001b[0m\u001b[1;33m:\u001b[0m\u001b[1;33m\u001b[0m\u001b[1;33m\u001b[0m\u001b[0m\n",
      "\u001b[1;31mAttributeError\u001b[0m: 'Series' object has no attribute 'to_numeric'"
     ]
    }
   ],
   "source": [
    "Series2 = frame2.loc[:,'VALUE']\n",
    "print(Series2)\n",
    "Series2.to_pandas().plot()\n"
   ]
  },
  {
   "cell_type": "code",
   "execution_count": null,
   "metadata": {},
   "outputs": [],
   "source": []
  },
  {
   "cell_type": "code",
   "execution_count": null,
   "metadata": {},
   "outputs": [],
   "source": []
  }
 ],
 "metadata": {
  "kernelspec": {
   "display_name": "Python 3",
   "language": "python",
   "name": "python3"
  },
  "language_info": {
   "codemirror_mode": {
    "name": "ipython",
    "version": 3
   },
   "file_extension": ".py",
   "mimetype": "text/x-python",
   "name": "python",
   "nbconvert_exporter": "python",
   "pygments_lexer": "ipython3",
   "version": "3.8.3"
  }
 },
 "nbformat": 4,
 "nbformat_minor": 4
}
