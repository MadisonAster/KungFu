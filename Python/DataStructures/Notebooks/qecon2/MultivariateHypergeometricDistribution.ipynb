{
 "cells": [
  {
   "cell_type": "code",
   "execution_count": 2,
   "metadata": {},
   "outputs": [],
   "source": [
    "import numpy as np\n",
    "from scipy.special import comb\n",
    "from scipy.stats import normaltest\n",
    "from numba import njit, prange\n",
    "import matplotlib.pyplot as plt\n",
    "%matplotlib inline\n",
    "import matplotlib.cm as cm"
   ]
  },
  {
   "cell_type": "markdown",
   "metadata": {},
   "source": [
    "Product of series:\n",
    "\n",
    "$\\prod_{i=1}^{c}$\n",
    "\n"
   ]
  },
  {
   "cell_type": "markdown",
   "metadata": {},
   "source": [
    "For every:\n",
    "\n",
    "∀"
   ]
  },
  {
   "cell_type": "markdown",
   "metadata": {},
   "source": [
    "Probability mass function:\n",
    "    \n",
    "$Pr\\{X_i = k_i∀i\\} = {\\prod_{i=1}^{c}\\begin{pmatrix}K_i\\\\k_i\\end{pmatrix} \\over \\begin{pmatrix}N\\\\n\\end{pmatrix}}$"
   ]
  },
  {
   "cell_type": "markdown",
   "metadata": {},
   "source": [
    "Mean:\n",
    "\n",
    "$E(X_i)=n {K_i \\over N}$"
   ]
  },
  {
   "cell_type": "markdown",
   "metadata": {},
   "source": [
    "Variances and covariances:\n",
    "\n",
    "$Var(X_i)=n {N-n \\over N-1} {K_i \\over N} (1-{K_i \\over N})$\n",
    "\n",
    "$Cov(X_i,X_j)=-n{N-n \\over N-1}{K_i \\over N}{K_j \\over N}$"
   ]
  },
  {
   "cell_type": "code",
   "execution_count": null,
   "metadata": {},
   "outputs": [],
   "source": []
  }
 ],
 "metadata": {
  "kernelspec": {
   "display_name": "Python 3",
   "language": "python",
   "name": "python3"
  },
  "language_info": {
   "codemirror_mode": {
    "name": "ipython",
    "version": 3
   },
   "file_extension": ".py",
   "mimetype": "text/x-python",
   "name": "python",
   "nbconvert_exporter": "python",
   "pygments_lexer": "ipython3",
   "version": "3.8.3"
  }
 },
 "nbformat": 4,
 "nbformat_minor": 4
}
