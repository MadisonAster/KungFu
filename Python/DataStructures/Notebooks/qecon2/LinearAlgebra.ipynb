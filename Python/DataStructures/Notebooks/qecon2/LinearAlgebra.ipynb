{
 "cells": [
  {
   "cell_type": "markdown",
   "metadata": {},
   "source": [
    "$\n",
    "\\large\n",
    "A=CR=\n",
    "\\huge\n",
    "\\begin{bmatrix}\n",
    "    \\ \\ \\\\\\\n",
    "\\end{bmatrix}\n",
    "\\begin{bmatrix}\n",
    "    \\ \\ \\ \\ \\ \\ \\\n",
    "\\end{bmatrix}\n",
    "$     &nbsp;&nbsp;&nbsp;&nbsp;&nbsp;&nbsp;&nbsp;&nbsp;&nbsp;&nbsp;&nbsp;&nbsp;&nbsp;&nbsp;&nbsp;&nbsp;&nbsp;&nbsp;**Independent columns in C**"
   ]
  },
  {
   "cell_type": "markdown",
   "metadata": {},
   "source": [
    "$\n",
    "\\large\n",
    "A=LU=\n",
    "\\huge\n",
    "\\begin{bmatrix}\n",
    "    \\backslash0\\\\\\ \\ \\ \\backslash\n",
    "\\end{bmatrix}\n",
    "\\begin{bmatrix}\n",
    "    \\backslash\\ \\\\0\\backslash\n",
    "\\end{bmatrix}\n",
    "$              &nbsp;&nbsp;&nbsp;&nbsp;&nbsp;&nbsp;&nbsp;&nbsp;&nbsp;&nbsp;&nbsp;&nbsp;&nbsp;&nbsp;&nbsp;&nbsp;**Triangular matrices L and U**"
   ]
  },
  {
   "cell_type": "markdown",
   "metadata": {},
   "source": [
    "$\n",
    "\\large\n",
    "A=QR=\n",
    "\\huge\n",
    "\\begin{bmatrix}\n",
    "    \\ \\ \\ \\ \\\\\\ q_1  q_n \\\\\\ \\ \\ \\ \\ \\ \n",
    "\\end{bmatrix}\n",
    "\\begin{bmatrix}\n",
    "    \\backslash\\ \\\\0\\backslash\n",
    "\\end{bmatrix}\n",
    "$                &nbsp;&nbsp;&nbsp;&nbsp;&nbsp;&nbsp;&nbsp;**Orthogonal columns in Q**"
   ]
  },
  {
   "cell_type": "markdown",
   "metadata": {},
   "source": [
    "$\n",
    "\\large\n",
    "    S = Q\\Lambda\n",
    "$            &nbsp;&nbsp;&nbsp;&nbsp;&nbsp;&nbsp;&nbsp;\n",
    "$\n",
    "\\large\n",
    "    Q^T\\ Q^T=Q^{-1}\n",
    "$            &nbsp;&nbsp;&nbsp;&nbsp;&nbsp;&nbsp;&nbsp;&nbsp;&nbsp;&nbsp;&nbsp;&nbsp;&nbsp;&nbsp;&nbsp;&nbsp;&nbsp;&nbsp;&nbsp;&nbsp;&nbsp;&nbsp;&nbsp;&nbsp;&nbsp;&nbsp;**Orthogonal eigenvectors**\n",
    "$\n",
    "\\large\n",
    "    Sq=\\lambda q\n",
    "$"
   ]
  },
  {
   "cell_type": "markdown",
   "metadata": {},
   "source": [
    "$\n",
    "\\large\n",
    "    A = X\\Lambda X^T\n",
    "$           &nbsp;**Eigenvalues in Λ,    Eigenvectors in X** &nbsp;&nbsp;&nbsp;&nbsp;&nbsp;&nbsp;&nbsp;&nbsp;&nbsp;&nbsp;&nbsp;&nbsp;&nbsp;&nbsp;&nbsp;&nbsp;&nbsp;&nbsp;&nbsp;&nbsp;&nbsp;&nbsp;&nbsp;&nbsp;&nbsp;&nbsp;&nbsp;&nbsp;&nbsp;&nbsp;&nbsp;\n",
    "$\n",
    "\\large\n",
    "    Ax=\\lambda x\n",
    "$"
   ]
  },
  {
   "cell_type": "markdown",
   "metadata": {},
   "source": [
    "$\n",
    "\\large\n",
    "    A = U\\Sigma V^T\n",
    "$ &nbsp;&nbsp;**Diagonal ∑ = Singular values**\n",
    "$\n",
    "\\large\n",
    "\\sigma=\\sqrt{\\lambda(A^TA)}\n",
    "$"
   ]
  },
  {
   "cell_type": "markdown",
   "metadata": {},
   "source": [
    "&nbsp;&nbsp;&nbsp;&nbsp;&nbsp;&nbsp;&nbsp;&nbsp;&nbsp;&nbsp;&nbsp;&nbsp;&nbsp;&nbsp;&nbsp;&nbsp;&nbsp;&nbsp;&nbsp;&nbsp;&nbsp;&nbsp;&nbsp;&nbsp;&nbsp;&nbsp;&nbsp;&nbsp;&nbsp;&nbsp;\n",
    "**Orthogonal vectors in**\n",
    "$\n",
    "\\large\n",
    "    U^TU=V^TV=I\n",
    "$ &nbsp;&nbsp;&nbsp;&nbsp;&nbsp;&nbsp;&nbsp;\n",
    "$\n",
    "\\large\n",
    "    Av=\\sigma u\n",
    "$"
   ]
  },
  {
   "source": [
    "My current undeerstanding:\n",
    "\n",
    "    * The big idea of linear algebra is to express matrix transformations as an algebraic one liners.\n",
    "    * The structure of a data frame is an analog of nullspace, rowspace, columnspace\n"
   ],
   "cell_type": "markdown",
   "metadata": {}
  },
  {
   "cell_type": "code",
   "execution_count": null,
   "metadata": {},
   "outputs": [],
   "source": []
  }
 ],
 "metadata": {
  "kernelspec": {
   "display_name": "Python 3",
   "language": "python",
   "name": "python3"
  },
  "language_info": {
   "codemirror_mode": {
    "name": "ipython",
    "version": 3
   },
   "file_extension": ".py",
   "mimetype": "text/x-python",
   "name": "python",
   "nbconvert_exporter": "python",
   "pygments_lexer": "ipython3",
   "version": "3.8.3"
  }
 },
 "nbformat": 4,
 "nbformat_minor": 4
}